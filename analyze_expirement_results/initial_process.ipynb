{
 "cells": [
  {
   "cell_type": "code",
   "execution_count": null,
   "id": "3a81fe09f0321874",
   "metadata": {
    "collapsed": false
   },
   "outputs": [],
   "source": [
    "import pandas as pd\n",
    "\n",
    "WINTER_DATA_PATH = r'C:\\Users\\yairs\\OneDrive\\Documents\\University\\Master\\Ships\\routes expirements from noa\\winter_data.xlsx'\n",
    "\n",
    "df = pd.read_excel(WINTER_DATA_PATH, sheet_name='final winter data')\n",
    "df.head()"
   ]
  },
  {
   "cell_type": "code",
   "outputs": [],
   "source": [
    "df.info()"
   ],
   "metadata": {
    "collapsed": true
   },
   "id": "initial_id",
   "execution_count": null
  },
  {
   "cell_type": "code",
   "outputs": [],
   "source": [
    "df.describe().transpose()"
   ],
   "metadata": {
    "collapsed": false
   },
   "id": "d57fe6e911b9a97e",
   "execution_count": null
  },
  {
   "cell_type": "code",
   "outputs": [],
   "source": [
    "import numpy as np\n",
    "\n",
    "df.replace(\"\\\\\", np.nan, inplace=True)\n",
    "df.head()"
   ],
   "metadata": {
    "collapsed": false
   },
   "id": "4042a4047149a7fa",
   "execution_count": null
  },
  {
   "cell_type": "code",
   "outputs": [],
   "source": [
    "WINTER_DATA_CSV_PATH = r'C:\\Users\\yairs\\OneDrive\\Documents\\University\\Master\\Ships\\routes expirements from noa\\winter_data_initial.csv'\n",
    "df.to_csv(WINTER_DATA_CSV_PATH, index=False)"
   ],
   "metadata": {
    "collapsed": false
   },
   "id": "41cb6184075f391d",
   "execution_count": null
  }
 ],
 "metadata": {
  "kernelspec": {
   "display_name": "Python 3",
   "language": "python",
   "name": "python3"
  },
  "language_info": {
   "codemirror_mode": {
    "name": "ipython",
    "version": 2
   },
   "file_extension": ".py",
   "mimetype": "text/x-python",
   "name": "python",
   "nbconvert_exporter": "python",
   "pygments_lexer": "ipython2",
   "version": "2.7.6"
  }
 },
 "nbformat": 4,
 "nbformat_minor": 5
}
