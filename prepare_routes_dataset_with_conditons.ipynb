{
 "cells": [
  {
   "cell_type": "code",
   "execution_count": 1,
   "metadata": {},
   "outputs": [],
   "source": [
    "import pandas as pd\n",
    "import numpy as np\n",
    "import matplotlib.pyplot as plt\n",
    "import seaborn as sns"
   ]
  },
  {
   "cell_type": "code",
   "execution_count": 20,
   "metadata": {},
   "outputs": [],
   "source": [
    "SHIPS_ROUTES_DATASET_EXTENDED = r\"C:\\Users\\yairs\\OneDrive\\Documents\\University\\Master\\Ships\\datasets from Doron\\ships routes\\ships routes (ports only) with locations of ports - extended.csv\"\n",
    "OUTPUT_PROCESSED_ROUTES_DATASET = r\"C:\\Users\\yairs\\OneDrive\\Documents\\University\\Master\\Ships\\datasets from Doron\\ships routes\\extended_proceesed.csv\"\n",
    "\n",
    "routes_extended_df = pd.read_csv(SHIPS_ROUTES_DATASET_EXTENDED)\n",
    "\n",
    "# Convert columns to right data types\n",
    "routes_extended_df['Arrival (LT)'] = pd.to_datetime(routes_extended_df['Arrival (LT)'], errors='coerce', dayfirst=True)\n",
    "routes_extended_df['Departure (LT)'] = pd.to_datetime(routes_extended_df['Departure (LT)'], errors='coerce', dayfirst=True)\n",
    "routes_extended_df['Longitude'] = pd.to_numeric(routes_extended_df['Longitude'], errors='coerce')\n",
    "routes_extended_df['Latitude'] = pd.to_numeric(routes_extended_df['Latitude'], errors='coerce')\n",
    "routes_extended_df['Hours'] = pd.to_numeric(routes_extended_df['Hours'], errors='coerce')\n"
   ]
  },
  {
   "cell_type": "code",
   "execution_count": 21,
   "metadata": {},
   "outputs": [
    {
     "name": "stderr",
     "output_type": "stream",
     "text": [
      "C:\\Users\\yairs\\AppData\\Local\\Temp\\ipykernel_13856\\243279495.py:1: FutureWarning: The default value of numeric_only in DataFrameGroupBy.mean is deprecated. In a future version, numeric_only will default to False. Either specify numeric_only or select only columns which should be valid for the function.\n",
      "  mean_time_in_port_by_ship = routes_extended_df.groupby('Ship').mean()['Hours']\n"
     ]
    }
   ],
   "source": [
    "mean_time_in_port_by_ship = routes_extended_df.groupby('Ship').mean()['Hours']"
   ]
  },
  {
   "cell_type": "code",
   "execution_count": 22,
   "metadata": {},
   "outputs": [
    {
     "name": "stdout",
     "output_type": "stream",
     "text": [
      "There are 192 ships in the routes dataset, with a mean route length of 63.572916666666664 ports\n"
     ]
    }
   ],
   "source": [
    "final_ship_dfs = []\n",
    "for name, ship_df in routes_extended_df.groupby('Ship'):\n",
    "    # Impute missing Hours (time in port) values\n",
    "    ship_df.loc[ship_df['Hours'].isna(), 'Hours'] = mean_time_in_port_by_ship[name]\n",
    "    ship_df['Hours (time delta)'] = pd.to_timedelta(ship_df['Hours'].astype(str) + 'h', errors='coerce')\n",
    "    \n",
    "    # Impute missing Departure and Arrival values based on the imputed Hours values\n",
    "    ship_df.loc[ship_df['Departure (LT)'].isna(), 'Departure (LT)'] = ship_df['Arrival (LT)'] + ship_df['Hours (time delta)']\n",
    "    ship_df.loc[ship_df['Arrival (LT)'].isna(), 'Arrival (LT)'] = ship_df['Departure (LT)'] - ship_df['Hours (time delta)']\n",
    "    \n",
    "    # Prepare final route of the ship\n",
    "    duplicated_ship_df = ship_df.copy()\n",
    "    ship_df = ship_df[['Ship', 'Port', 'Arrival (LT)']]\n",
    "    new_ship_df = ship_df.rename(columns={'Arrival (LT)': 'time'})\n",
    "    duplicated_ship_df = duplicated_ship_df[['Ship', 'Port', 'Departure (LT)']]\n",
    "    duplicated_ship_df.rename(columns={'Departure (LT)': 'time'}, inplace=True)\n",
    "    final_ship_df = pd.concat([new_ship_df, duplicated_ship_df], ignore_index=True)\n",
    "    final_ship_df.sort_values('time', ascending=True, inplace=True)\n",
    "\n",
    "    # Convert (absolute) time column to relative time (in hours)\n",
    "    reference_time_value = final_ship_df.iloc[0]['time']\n",
    "    relative_times_in_hours = []\n",
    "    for index, row in final_ship_df.iterrows():\n",
    "        relative_times_in_hours.append((row['time'] - reference_time_value) / np.timedelta64(1, 'h'))\n",
    "    final_ship_df['relative time'] = relative_times_in_hours\n",
    "    final_ship_dfs.append(final_ship_df)\n",
    "\n",
    "final_ships_df = pd.concat(final_ship_dfs, ignore_index=True)\n",
    "final_ships_df.to_csv(OUTPUT_PROCESSED_ROUTES_DATASET, index=False, date_format=\"%d/%m/%y %H:%M:%S\")\n",
    "print(f\"There are {len(final_ships_df.groupby('Ship'))} ships in the routes dataset, with a mean route length of {final_ships_df.groupby('Ship').count()['Port'].mean() / 2} ports\")"
   ]
  },
  {
   "cell_type": "code",
   "execution_count": 23,
   "metadata": {},
   "outputs": [
    {
     "name": "stdout",
     "output_type": "stream",
     "text": [
      "There are 115 ports in the routes dataset\n"
     ]
    }
   ],
   "source": [
    "ports_in_routes_df = routes_extended_df[['Port', 'Longitude', 'Latitude']]\n",
    "ports_in_routes_df = ports_in_routes_df.drop_duplicates()\n",
    "ports_in_routes_df['Port'] = ports_in_routes_df['Port'].str.lower()\n",
    "\n",
    "print(f'There are {len(ports_in_routes_df)} ports in the routes dataset')"
   ]
  },
  {
   "cell_type": "code",
   "execution_count": 16,
   "metadata": {},
   "outputs": [],
   "source": [
    "TEMPRATURE_2019_JANUARY_PATH = r\"C:\\Users\\yairs\\OneDrive\\Documents\\University\\Master\\Ships\\datasets from Doron\\environment conditions\\temprature data from NASA earth observations\\MYD28M_2019-01-01_rgb_3600x1800.SS.CSV\"\n",
    "TEMPRATURE_2019_APRIL_PATH = r\"C:\\Users\\yairs\\OneDrive\\Documents\\University\\Master\\Ships\\datasets from Doron\\environment conditions\\temprature data from NASA earth observations\\MYD28M_2019-04-01_rgb_3600x1800.SS.CSV\"\n",
    "TEMPRATURE_2019_JULY_PATH = r\"C:\\Users\\yairs\\OneDrive\\Documents\\University\\Master\\Ships\\datasets from Doron\\environment conditions\\temprature data from NASA earth observations\\MYD28M_2019-07-01_rgb_3600x1800.SS.CSV\"\n",
    "TEMPRATURE_2019_OCTOBER_PATH = r\"C:\\Users\\yairs\\OneDrive\\Documents\\University\\Master\\Ships\\datasets from Doron\\environment conditions\\temprature data from NASA earth observations\\MYD28M_2019-10-01_rgb_3600x1800.SS.CSV\"\n",
    "\n",
    "TEMPRATURE_2020_JANUARY_PATH = r\"C:\\Users\\yairs\\OneDrive\\Documents\\University\\Master\\Ships\\datasets from Doron\\environment conditions\\temprature data from NASA earth observations\\MYD28M_2020-01-01_rgb_3600x1800.SS.CSV\"\n",
    "TEMPRATURE_2020_APRIL_PATH = r\"C:\\Users\\yairs\\OneDrive\\Documents\\University\\Master\\Ships\\datasets from Doron\\environment conditions\\temprature data from NASA earth observations\\MYD28M_2020-04-01_rgb_3600x1800.SS.CSV\"\n",
    "TEMPRATURE_2020_JULY_PATH = r\"C:\\Users\\yairs\\OneDrive\\Documents\\University\\Master\\Ships\\datasets from Doron\\environment conditions\\temprature data from NASA earth observations\\MYD28M_2020-07-01_rgb_3600x1800.SS.CSV\"\n",
    "TEMPRATURE_2020_OCTOBER_PATH = r\"C:\\Users\\yairs\\OneDrive\\Documents\\University\\Master\\Ships\\datasets from Doron\\environment conditions\\temprature data from NASA earth observations\\MYD28M_2020-10-01_rgb_3600x1800.SS.CSV\"\n",
    "\n",
    "TEMPRATURE_2021_JANUARY_PATH = r\"C:\\Users\\yairs\\OneDrive\\Documents\\University\\Master\\Ships\\datasets from Doron\\environment conditions\\temprature data from NASA earth observations\\MYD28M_2021-01-01_rgb_3600x1800.SS.CSV\"\n",
    "TEMPRATURE_2021_APRIL_PATH = r\"C:\\Users\\yairs\\OneDrive\\Documents\\University\\Master\\Ships\\datasets from Doron\\environment conditions\\temprature data from NASA earth observations\\MYD28M_2021-04-01_rgb_3600x1800.SS.CSV\"\n",
    "TEMPRATURE_2021_JULY_PATH = r\"C:\\Users\\yairs\\OneDrive\\Documents\\University\\Master\\Ships\\datasets from Doron\\environment conditions\\temprature data from NASA earth observations\\MYD28M_2021-07-01_rgb_3600x1800.SS.CSV\"\n",
    "TEMPRATURE_2021_OCTOBER_PATH = r\"C:\\Users\\yairs\\OneDrive\\Documents\\University\\Master\\Ships\\datasets from Doron\\environment conditions\\temprature data from NASA earth observations\\MYD28M_2021-10-01_rgb_3600x1800.SS.CSV\"\n",
    "\n",
    "TEMPRATURE_2022_JANUARY_PATH = r\"C:\\Users\\yairs\\OneDrive\\Documents\\University\\Master\\Ships\\datasets from Doron\\environment conditions\\temprature data from NASA earth observations\\MYD28M_2022-01-01_rgb_3600x1800.SS.CSV\"\n",
    "TEMPRATURE_2022_APRIL_PATH = r\"C:\\Users\\yairs\\OneDrive\\Documents\\University\\Master\\Ships\\datasets from Doron\\environment conditions\\temprature data from NASA earth observations\\MYD28M_2022-04-15_rgb_3600x1800.SS.CSV\"\n",
    "TEMPRATURE_2022_JULY_PATH = r\"C:\\Users\\yairs\\OneDrive\\Documents\\University\\Master\\Ships\\datasets from Doron\\environment conditions\\temprature data from NASA earth observations\\MYD28M_2022-07-01_rgb_3600x1800.SS.CSV\"\n",
    "TEMPRATURE_2022_OCTOBER_PATH = r\"C:\\Users\\yairs\\OneDrive\\Documents\\University\\Master\\Ships\\datasets from Doron\\environment conditions\\temprature data from NASA earth observations\\MYD28M_2022-10-01_rgb_3600x1800.SS.CSV\"\n",
    "\n",
    "CHLOROPHYL_2019_JANUARY_PATH = r\"C:\\Users\\yairs\\OneDrive\\Documents\\University\\Master\\Ships\\datasets from Doron\\environment conditions\\chlorophyl data from NASA earth observations\\MY1DMM_CHLORA_2019-01-01_rgb_3600x1800.SS.CSV\"\n",
    "CHLOROPHYL_2019_APRIL_PATH = r\"C:\\Users\\yairs\\OneDrive\\Documents\\University\\Master\\Ships\\datasets from Doron\\environment conditions\\chlorophyl data from NASA earth observations\\MY1DMM_CHLORA_2019-04-01_rgb_3600x1800.SS.CSV\"\n",
    "CHLOROPHYL_2019_JULY_PATH = r\"C:\\Users\\yairs\\OneDrive\\Documents\\University\\Master\\Ships\\datasets from Doron\\environment conditions\\chlorophyl data from NASA earth observations\\MY1DMM_CHLORA_2019-07-01_rgb_3600x1800.SS.CSV\"\n",
    "CHLOROPHYL_2019_OCTOBER_PATH = r\"C:\\Users\\yairs\\OneDrive\\Documents\\University\\Master\\Ships\\datasets from Doron\\environment conditions\\chlorophyl data from NASA earth observations\\MY1DMM_CHLORA_2019-10-01_rgb_3600x1800.SS.CSV\"\n",
    "\n",
    "CHLOROPHYL_2020_JANUARY_PATH = r\"C:\\Users\\yairs\\OneDrive\\Documents\\University\\Master\\Ships\\datasets from Doron\\environment conditions\\chlorophyl data from NASA earth observations\\MY1DMM_CHLORA_2020-01-01_rgb_3600x1800.SS.CSV\"\n",
    "CHLOROPHYL_2020_APRIL_PATH = r\"C:\\Users\\yairs\\OneDrive\\Documents\\University\\Master\\Ships\\datasets from Doron\\environment conditions\\chlorophyl data from NASA earth observations\\MY1DMM_CHLORA_2020-04-01_rgb_3600x1800.SS.CSV\"\n",
    "CHLOROPHYL_2020_JULY_PATH = r\"C:\\Users\\yairs\\OneDrive\\Documents\\University\\Master\\Ships\\datasets from Doron\\environment conditions\\chlorophyl data from NASA earth observations\\MY1DMM_CHLORA_2020-07-01_rgb_3600x1800.SS.CSV\"\n",
    "CHLOROPHYL_2020_OCTOBER_PATH = r\"C:\\Users\\yairs\\OneDrive\\Documents\\University\\Master\\Ships\\datasets from Doron\\environment conditions\\chlorophyl data from NASA earth observations\\MY1DMM_CHLORA_2020-10-01_rgb_3600x1800.SS.CSV\"\n",
    "\n",
    "CHLOROPHYL_2021_JANUARY_PATH = r\"C:\\Users\\yairs\\OneDrive\\Documents\\University\\Master\\Ships\\datasets from Doron\\environment conditions\\chlorophyl data from NASA earth observations\\MY1DMM_CHLORA_2021-01-01_rgb_3600x1800.SS.CSV\"\n",
    "CHLOROPHYL_2021_APRIL_PATH = r\"C:\\Users\\yairs\\OneDrive\\Documents\\University\\Master\\Ships\\datasets from Doron\\environment conditions\\chlorophyl data from NASA earth observations\\MY1DMM_CHLORA_2021-04-01_rgb_3600x1800.SS.CSV\"\n",
    "CHLOROPHYL_2021_JULY_PATH = r\"C:\\Users\\yairs\\OneDrive\\Documents\\University\\Master\\Ships\\datasets from Doron\\environment conditions\\chlorophyl data from NASA earth observations\\MY1DMM_CHLORA_2021-07-01_rgb_3600x1800.SS.CSV\"\n",
    "CHLOROPHYL_2021_OCTOBER_PATH = r\"C:\\Users\\yairs\\OneDrive\\Documents\\University\\Master\\Ships\\datasets from Doron\\environment conditions\\chlorophyl data from NASA earth observations\\MY1DMM_CHLORA_2021-10-01_rgb_3600x1800.SS.CSV\"\n",
    "\n",
    "CHLOROPHYL_2022_JANUARY_PATH = r\"C:\\Users\\yairs\\OneDrive\\Documents\\University\\Master\\Ships\\datasets from Doron\\environment conditions\\chlorophyl data from NASA earth observations\\MY1DMM_CHLORA_2022-01-01_rgb_3600x1800.SS.CSV\"\n",
    "CHLOROPHYL_2022_APRIL_PATH = r\"C:\\Users\\yairs\\OneDrive\\Documents\\University\\Master\\Ships\\datasets from Doron\\environment conditions\\chlorophyl data from NASA earth observations\\MY1DMM_CHLORA_2022-04-15_rgb_3600x1800.SS.CSV\"\n",
    "CHLOROPHYL_2022_JULY_PATH = r\"C:\\Users\\yairs\\OneDrive\\Documents\\University\\Master\\Ships\\datasets from Doron\\environment conditions\\chlorophyl data from NASA earth observations\\MY1DMM_CHLORA_2022-07-01_rgb_3600x1800.SS.CSV\"\n",
    "\n",
    "TEMPRATURE_JANUARY_PATHS = [TEMPRATURE_2019_JANUARY_PATH, TEMPRATURE_2020_JANUARY_PATH, TEMPRATURE_2021_JANUARY_PATH, TEMPRATURE_2022_JANUARY_PATH]\n",
    "TEMPRATURE_APRIL_PATHS = [TEMPRATURE_2019_APRIL_PATH, TEMPRATURE_2020_APRIL_PATH, TEMPRATURE_2021_APRIL_PATH, TEMPRATURE_2022_APRIL_PATH]\n",
    "TEMPRATURE_JULY_PATHS = [TEMPRATURE_2019_JULY_PATH, TEMPRATURE_2020_JULY_PATH, TEMPRATURE_2021_JULY_PATH, TEMPRATURE_2022_JULY_PATH]\n",
    "TEMPRATURE_OCTOBER_PATHS = [TEMPRATURE_2019_OCTOBER_PATH, TEMPRATURE_2020_OCTOBER_PATH, TEMPRATURE_2021_OCTOBER_PATH, TEMPRATURE_2022_OCTOBER_PATH]\n",
    "\n",
    "CHLOROPHYL_JANUARY_PATHS = [CHLOROPHYL_2019_JANUARY_PATH, CHLOROPHYL_2020_JANUARY_PATH, CHLOROPHYL_2021_JANUARY_PATH, CHLOROPHYL_2022_JANUARY_PATH]\n",
    "CHLOROPHYL_APRIL_PATHS = [CHLOROPHYL_2019_APRIL_PATH, CHLOROPHYL_2020_APRIL_PATH, CHLOROPHYL_2021_APRIL_PATH, CHLOROPHYL_2022_APRIL_PATH]\n",
    "CHLOROPHYL_JULY_PATHS = [CHLOROPHYL_2019_JULY_PATH, CHLOROPHYL_2020_JULY_PATH, CHLOROPHYL_2021_JULY_PATH, CHLOROPHYL_2022_JULY_PATH]\n",
    "CHLOROPHYL_OCTOBER_PATHS = [CHLOROPHYL_2019_OCTOBER_PATH, CHLOROPHYL_2020_OCTOBER_PATH, CHLOROPHYL_2021_OCTOBER_PATH]\n",
    "\n",
    "# Extract long and lat keys from one dataset for example\n",
    "temprature_2022_january_df = pd.read_csv(TEMPRATURE_2022_JANUARY_PATH)\n",
    "lat_keys = temprature_2022_january_df['lat/lon'].to_numpy(dtype=float).round(2)\n",
    "long_keys = temprature_2022_january_df.columns[1:].to_numpy(dtype=float).round(2)"
   ]
  },
  {
   "cell_type": "code",
   "execution_count": 14,
   "metadata": {},
   "outputs": [],
   "source": [
    "def prepare_temprature_or_chlorophyl_dataset(dataset_path):\n",
    "    df = pd.read_csv(dataset_path)\n",
    "    df.columns = ['lat'] + list(long_keys)\n",
    "    df['lat'] = lat_keys\n",
    "    return df"
   ]
  },
  {
   "cell_type": "code",
   "execution_count": 17,
   "metadata": {},
   "outputs": [],
   "source": [
    "temprature_january_dfs = []\n",
    "for path in TEMPRATURE_JANUARY_PATHS:\n",
    "    temprature_january_dfs.append(prepare_temprature_or_chlorophyl_dataset(path))\n",
    "\n",
    "temprature_april_dfs = []\n",
    "for path in TEMPRATURE_APRIL_PATHS:\n",
    "    temprature_april_dfs.append(prepare_temprature_or_chlorophyl_dataset(path))\n",
    "\n",
    "temprature_july_dfs = []\n",
    "for path in TEMPRATURE_JULY_PATHS:\n",
    "    temprature_july_dfs.append(prepare_temprature_or_chlorophyl_dataset(path))\n",
    "\n",
    "temprature_october_dfs = []\n",
    "for path in TEMPRATURE_OCTOBER_PATHS:\n",
    "    temprature_october_dfs.append(prepare_temprature_or_chlorophyl_dataset(path))\n",
    "\n",
    "chlorophyl_january_dfs = []\n",
    "for path in CHLOROPHYL_JANUARY_PATHS:\n",
    "    chlorophyl_january_dfs.append(prepare_temprature_or_chlorophyl_dataset(path))\n",
    "\n",
    "chlorophyl_april_dfs = []\n",
    "for path in CHLOROPHYL_APRIL_PATHS:\n",
    "    chlorophyl_april_dfs.append(prepare_temprature_or_chlorophyl_dataset(path))\n",
    "\n",
    "chlorophyl_july_dfs = []\n",
    "for path in CHLOROPHYL_JULY_PATHS:\n",
    "    chlorophyl_july_dfs.append(prepare_temprature_or_chlorophyl_dataset(path))\n",
    "\n",
    "chlorophyl_october_dfs = []\n",
    "for path in CHLOROPHYL_OCTOBER_PATHS:\n",
    "    chlorophyl_october_dfs.append(prepare_temprature_or_chlorophyl_dataset(path))"
   ]
  },
  {
   "cell_type": "code",
   "execution_count": 18,
   "metadata": {},
   "outputs": [],
   "source": [
    "def get_temprature_or_chlorophyl_value(datasets, lat, long):\n",
    "    lat_index = datasets[0].index[datasets[0]['lat'] == lat]\n",
    "    long_index = datasets[0].columns.get_loc(long)\n",
    "    coordinates_to_check = [(lat_index, long_index), \n",
    "                            (lat_index - 1, long_index), (lat_index + 1, long_index),\n",
    "                            (lat_index, long_index - 1), (lat_index, long_index + 1), \n",
    "                            (lat_index - 1, long_index - 1), (lat_index - 1, long_index + 1),\n",
    "                            (lat_index + 1, long_index - 1), (lat_index + 1, long_index + 1)]\n",
    "    for lat_index, long_index in coordinates_to_check:\n",
    "        for dataset in datasets:\n",
    "            value = dataset.iloc[lat_index, long_index].item()\n",
    "            if value != 99999:\n",
    "                return value\n",
    "    return None"
   ]
  },
  {
   "cell_type": "code",
   "execution_count": 25,
   "metadata": {},
   "outputs": [],
   "source": [
    "ports_temprature_january = []\n",
    "ports_temprature_april = []\n",
    "ports_temprature_july = []\n",
    "ports_temprature_october = []\n",
    "\n",
    "ports_chlorophyl_january = []\n",
    "ports_chlorophyl_april = []\n",
    "ports_chlorophyl_july = []\n",
    "ports_chlorophyl_october = []\n",
    "\n",
    "for index, row in ports_in_routes_df.iterrows():\n",
    "    port_lat = row['Latitude']\n",
    "    port_long = row['Longitude']\n",
    "    closest_valid_lat_key = min(lat_keys, key=lambda x: abs(x - port_lat))\n",
    "    closest_valid_long_key = min(long_keys, key=lambda x: abs(x - port_long))\n",
    "\n",
    "    port_temprature_january = get_temprature_or_chlorophyl_value(temprature_january_dfs, closest_valid_lat_key, closest_valid_long_key)\n",
    "    ports_temprature_january.append(port_temprature_january)\n",
    "    port_temprature_april = get_temprature_or_chlorophyl_value(temprature_april_dfs, closest_valid_lat_key, closest_valid_long_key)\n",
    "    ports_temprature_april.append(port_temprature_april)\n",
    "    port_temprature_july = get_temprature_or_chlorophyl_value(temprature_july_dfs, closest_valid_lat_key, closest_valid_long_key)\n",
    "    ports_temprature_july.append(port_temprature_july)\n",
    "    port_temprature_october = get_temprature_or_chlorophyl_value(temprature_october_dfs, closest_valid_lat_key, closest_valid_long_key)\n",
    "    ports_temprature_october.append(port_temprature_october)\n",
    "\n",
    "    port_chlorophyl_january = get_temprature_or_chlorophyl_value(chlorophyl_january_dfs, closest_valid_lat_key, closest_valid_long_key)\n",
    "    ports_chlorophyl_january.append(port_chlorophyl_january)\n",
    "    port_chlorophyl_april = get_temprature_or_chlorophyl_value(chlorophyl_april_dfs, closest_valid_lat_key, closest_valid_long_key)\n",
    "    ports_chlorophyl_april.append(port_chlorophyl_april)\n",
    "    port_chlorophyl_july = get_temprature_or_chlorophyl_value(chlorophyl_july_dfs, closest_valid_lat_key, closest_valid_long_key)\n",
    "    ports_chlorophyl_july.append(port_chlorophyl_july)\n",
    "    port_chlorophyl_october = get_temprature_or_chlorophyl_value(chlorophyl_october_dfs, closest_valid_lat_key, closest_valid_long_key)\n",
    "    ports_chlorophyl_october.append(port_chlorophyl_october)\n",
    "\n",
    "ports_in_routes_df['NASA Temp Jan'] = ports_temprature_january\n",
    "ports_in_routes_df['NASA Temp Apr'] = ports_temprature_april\n",
    "ports_in_routes_df['NASA Temp Jul'] = ports_temprature_july\n",
    "ports_in_routes_df['NASA Temp Oct'] = ports_temprature_october\n",
    "\n",
    "ports_in_routes_df['NASA Chlor Jan'] = ports_chlorophyl_january\n",
    "ports_in_routes_df['NASA Chlor Apr'] = ports_chlorophyl_april\n",
    "ports_in_routes_df['NASA Chlor Jul'] = ports_chlorophyl_july\n",
    "ports_in_routes_df['NASA Chlor Oct'] = ports_chlorophyl_october"
   ]
  },
  {
   "cell_type": "code",
   "execution_count": 140,
   "metadata": {},
   "outputs": [
    {
     "name": "stdout",
     "output_type": "stream",
     "text": [
      "The ports conditions dataset contains 85 relevant ports\n"
     ]
    }
   ],
   "source": [
    "PORTS_CONDITIONS_PATH = r\"C:\\Users\\yairs\\OneDrive\\Documents\\University\\Master\\Ships\\datasets from Doron\\environment conditions\\Ports dataset with their temprature and salinity.csv\"\n",
    "ports_conditions_df = pd.read_csv(PORTS_CONDITIONS_PATH)\n",
    "ports_conditions_df = ports_conditions_df.loc[ports_conditions_df['PortName'].str.lower().isin(ports_in_routes_df)]\n",
    "ports_conditions_df = ports_conditions_df[['PortName', 'MinTemp', 'MaxTemp', 'AnnualTemp', 'Salinity']]\n",
    "print(f\"The ports conditions dataset contains {len(ports_conditions_df)} relevant ports\")\n",
    "\n",
    "ports_min_temp = []\n",
    "ports_max_temp = []\n",
    "ports_annual_temp = []\n",
    "ports_salinity = []"
   ]
  },
  {
   "cell_type": "code",
   "execution_count": null,
   "metadata": {},
   "outputs": [],
   "source": [
    "OUTPUT_PORTS_DATASET_PATH = r\"C:\\Users\\yairs\\OneDrive\\Documents\\University\\Master\\Ships\\datasets from Doron\\environment conditions\\final_ports_dataset.csv\"\n",
    "ports_in_routes_df.to_csv(OUTPUT_PORTS_DATASET_PATH, index=False)"
   ]
  },
  {
   "cell_type": "code",
   "execution_count": null,
   "metadata": {},
   "outputs": [],
   "source": [
    "SALINITY_JANUARY_PATH = r\"C:\\Users\\yairs\\OneDrive\\Documents\\University\\Master\\Ships\\datasets from Doron\\environment conditions\\salinity data from CEDA 2018\\jan_sal_good.csv\"\n",
    "SALINITY_APRIL_PATH = r\"C:\\Users\\yairs\\OneDrive\\Documents\\University\\Master\\Ships\\datasets from Doron\\environment conditions\\salinity data from CEDA 2018\\apr_sal_good.csv\"\n",
    "SALINITY_JULY_PATH = r\"C:\\Users\\yairs\\OneDrive\\Documents\\University\\Master\\Ships\\datasets from Doron\\environment conditions\\salinity data from CEDA 2018\\jul_sal_good.csv\"\n",
    "SALINITY_OCTOBER_PATH = r\"C:\\Users\\yairs\\OneDrive\\Documents\\University\\Master\\Ships\\datasets from Doron\\environment conditions\\salinity data from CEDA 2018\\oct_sal_good.csv\""
   ]
  }
 ],
 "metadata": {
  "kernelspec": {
   "display_name": "base",
   "language": "python",
   "name": "python3"
  },
  "language_info": {
   "codemirror_mode": {
    "name": "ipython",
    "version": 3
   },
   "file_extension": ".py",
   "mimetype": "text/x-python",
   "name": "python",
   "nbconvert_exporter": "python",
   "pygments_lexer": "ipython3",
   "version": "3.8.16"
  },
  "orig_nbformat": 4
 },
 "nbformat": 4,
 "nbformat_minor": 2
}
